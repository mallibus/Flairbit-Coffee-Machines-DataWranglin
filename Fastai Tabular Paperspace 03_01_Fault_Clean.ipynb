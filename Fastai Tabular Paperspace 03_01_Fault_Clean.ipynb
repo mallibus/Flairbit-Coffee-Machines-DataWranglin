{
 "cells": [
  {
   "cell_type": "code",
   "execution_count": 1,
   "metadata": {},
   "outputs": [],
   "source": [
    "import pandas as pd\n",
    "from fastai.tabular import *"
   ]
  },
  {
   "cell_type": "code",
   "execution_count": 58,
   "metadata": {},
   "outputs": [],
   "source": [
    "# Temp fix\n",
    "get_ipython().config.get('IPKernelApp', {})['parent_appname'] = \"\"\n"
   ]
  },
  {
   "cell_type": "markdown",
   "metadata": {},
   "source": [
    "Dataset filename .csv decoding\n",
    "\n",
    "e.g. **Faults_Cleaning_Counters_100_D_20_1.csv**\n",
    "\n",
    "Field | Description\n",
    "------|-----------------\n",
    "Faults_Cleaning_Counters | what is in the datset\n",
    "100 |  number of machines Serial Numbers in the datset. \n",
    "D | time period of summarization D=Days W=Weeks\n",
    "10 | depth of each row in periods\n",
    "1 | time periods between two consecutive rows for the same Serial Number"
   ]
  },
  {
   "cell_type": "code",
   "execution_count": 59,
   "metadata": {},
   "outputs": [],
   "source": [
    "dataset_root = \"Faults_Cleaning_100_D_20_1\""
   ]
  },
  {
   "cell_type": "code",
   "execution_count": 60,
   "metadata": {},
   "outputs": [],
   "source": [
    "df = pd.read_csv(dataset_root+\".csv\",parse_dates = ['Target Timestamp'])"
   ]
  },
  {
   "cell_type": "raw",
   "metadata": {},
   "source": [
    "df = pd.concat([pd.read_csv(\"Faults_Cleaning_Counters_100_D_20_1_0000.csv\",parse_dates = ['Target Timestamp']),\n",
    "                pd.read_csv(\"Faults_Cleaning_Counters_100_D_20_1_0001.csv\",parse_dates = ['Target Timestamp']),\n",
    "                pd.read_csv(\"Faults_Cleaning_Counters_100_D_20_1_0002.csv\",parse_dates = ['Target Timestamp']),\n",
    "                pd.read_csv(\"Faults_Cleaning_Counters_100_D_20_1_0003.csv\",parse_dates = ['Target Timestamp'])])"
   ]
  },
  {
   "cell_type": "code",
   "execution_count": 61,
   "metadata": {},
   "outputs": [
    {
     "name": "stdout",
     "output_type": "stream",
     "text": [
      "<class 'pandas.core.frame.DataFrame'>\n",
      "RangeIndex: 62200 entries, 0 to 62199\n",
      "Data columns (total 45 columns):\n",
      "Unnamed: 0          62200 non-null int64\n",
      "Serial              62200 non-null int64\n",
      "Model               62200 non-null object\n",
      "Target Timestamp    62200 non-null datetime64[ns]\n",
      "CLEANING-20D        62200 non-null float64\n",
      "CLEANING-19D        62200 non-null float64\n",
      "CLEANING-18D        62200 non-null float64\n",
      "CLEANING-17D        62200 non-null float64\n",
      "CLEANING-16D        62200 non-null float64\n",
      "CLEANING-15D        62200 non-null float64\n",
      "CLEANING-14D        62200 non-null float64\n",
      "CLEANING-13D        62200 non-null float64\n",
      "CLEANING-12D        62200 non-null float64\n",
      "CLEANING-11D        62200 non-null float64\n",
      "CLEANING-10D        62200 non-null float64\n",
      "CLEANING-9D         62200 non-null float64\n",
      "CLEANING-8D         62200 non-null float64\n",
      "CLEANING-7D         62200 non-null float64\n",
      "CLEANING-6D         62200 non-null float64\n",
      "CLEANING-5D         62200 non-null float64\n",
      "CLEANING-4D         62200 non-null float64\n",
      "CLEANING-3D         62200 non-null float64\n",
      "CLEANING-2D         62200 non-null float64\n",
      "CLEANING-1D         62200 non-null float64\n",
      "FAULT-20D           62200 non-null float64\n",
      "FAULT-19D           62200 non-null float64\n",
      "FAULT-18D           62200 non-null float64\n",
      "FAULT-17D           62200 non-null float64\n",
      "FAULT-16D           62200 non-null float64\n",
      "FAULT-15D           62200 non-null float64\n",
      "FAULT-14D           62200 non-null float64\n",
      "FAULT-13D           62200 non-null float64\n",
      "FAULT-12D           62200 non-null float64\n",
      "FAULT-11D           62200 non-null float64\n",
      "FAULT-10D           62200 non-null float64\n",
      "FAULT-9D            62200 non-null float64\n",
      "FAULT-8D            62200 non-null float64\n",
      "FAULT-7D            62200 non-null float64\n",
      "FAULT-6D            62200 non-null float64\n",
      "FAULT-5D            62200 non-null float64\n",
      "FAULT-4D            62200 non-null float64\n",
      "FAULT-3D            62200 non-null float64\n",
      "FAULT-2D            62200 non-null float64\n",
      "FAULT-1D            62200 non-null float64\n",
      "TARGET              62200 non-null float64\n",
      "dtypes: datetime64[ns](1), float64(41), int64(2), object(1)\n",
      "memory usage: 21.4+ MB\n"
     ]
    }
   ],
   "source": [
    "df.info()"
   ]
  },
  {
   "cell_type": "code",
   "execution_count": 62,
   "metadata": {},
   "outputs": [],
   "source": [
    "categories_roots = list(set([s.split('-')[0] for s in df.columns if '-' in s]))"
   ]
  },
  {
   "cell_type": "code",
   "execution_count": 63,
   "metadata": {},
   "outputs": [
    {
     "data": {
      "text/plain": [
       "'D'"
      ]
     },
     "execution_count": 63,
     "metadata": {},
     "output_type": "execute_result"
    }
   ],
   "source": [
    "time_period=list(set([s.split('-')[1][-1] for s in df.columns if '-' in s]))[0]\n",
    "time_period"
   ]
  },
  {
   "cell_type": "code",
   "execution_count": 64,
   "metadata": {},
   "outputs": [],
   "source": [
    "target_width = 5"
   ]
  },
  {
   "cell_type": "code",
   "execution_count": 65,
   "metadata": {},
   "outputs": [
    {
     "data": {
      "text/plain": [
       "['FAULT-4D', 'FAULT-3D', 'FAULT-2D', 'FAULT-1D', 'TARGET']"
      ]
     },
     "execution_count": 65,
     "metadata": {},
     "output_type": "execute_result"
    }
   ],
   "source": [
    "columns_to_sum = ['FAULT-%d%s'%(n,time_period) for n in range(target_width-1,0,-1)]\n",
    "columns_to_sum.append('TARGET')\n",
    "columns_to_sum"
   ]
  },
  {
   "cell_type": "code",
   "execution_count": 66,
   "metadata": {},
   "outputs": [
    {
     "data": {
      "text/plain": [
       "['FAULT-4D',\n",
       " 'FAULT-3D',\n",
       " 'FAULT-2D',\n",
       " 'FAULT-1D',\n",
       " 'CLEANING-4D',\n",
       " 'CLEANING-3D',\n",
       " 'CLEANING-2D',\n",
       " 'CLEANING-1D']"
      ]
     },
     "execution_count": 66,
     "metadata": {},
     "output_type": "execute_result"
    }
   ],
   "source": [
    "from itertools import chain\n",
    "columns_to_drop = [['%s-%d%s'%(root,n,time_period) for n in range(target_width-1,0,-1)] for root in categories_roots]\n",
    "columns_to_drop = list(chain(*columns_to_drop))\n",
    "columns_to_drop"
   ]
  },
  {
   "cell_type": "code",
   "execution_count": 67,
   "metadata": {},
   "outputs": [],
   "source": [
    "df['TARGET']=df[columns_to_sum].sum(axis=1)\n",
    "# For now only boolean prediction\n",
    "df['TARGET'] = (df['TARGET']>0).astype(int)\n"
   ]
  },
  {
   "cell_type": "code",
   "execution_count": 68,
   "metadata": {},
   "outputs": [
    {
     "data": {
      "text/plain": [
       "0    40860\n",
       "1    21340\n",
       "Name: TARGET, dtype: int64"
      ]
     },
     "execution_count": 68,
     "metadata": {},
     "output_type": "execute_result"
    }
   ],
   "source": [
    "df['TARGET'].value_counts()"
   ]
  },
  {
   "cell_type": "code",
   "execution_count": 69,
   "metadata": {},
   "outputs": [
    {
     "data": {
      "text/plain": [
       "Index(['Unnamed: 0', 'Serial', 'Model', 'Target Timestamp', 'CLEANING-20D',\n",
       "       'CLEANING-19D', 'CLEANING-18D', 'CLEANING-17D', 'CLEANING-16D',\n",
       "       'CLEANING-15D', 'CLEANING-14D', 'CLEANING-13D', 'CLEANING-12D',\n",
       "       'CLEANING-11D', 'CLEANING-10D', 'CLEANING-9D', 'CLEANING-8D',\n",
       "       'CLEANING-7D', 'CLEANING-6D', 'CLEANING-5D', 'CLEANING-4D',\n",
       "       'CLEANING-3D', 'CLEANING-2D', 'CLEANING-1D', 'FAULT-20D', 'FAULT-19D',\n",
       "       'FAULT-18D', 'FAULT-17D', 'FAULT-16D', 'FAULT-15D', 'FAULT-14D',\n",
       "       'FAULT-13D', 'FAULT-12D', 'FAULT-11D', 'FAULT-10D', 'FAULT-9D',\n",
       "       'FAULT-8D', 'FAULT-7D', 'FAULT-6D', 'FAULT-5D', 'FAULT-4D', 'FAULT-3D',\n",
       "       'FAULT-2D', 'FAULT-1D', 'TARGET'],\n",
       "      dtype='object')"
      ]
     },
     "execution_count": 69,
     "metadata": {},
     "output_type": "execute_result"
    }
   ],
   "source": [
    "df.columns"
   ]
  },
  {
   "cell_type": "code",
   "execution_count": 70,
   "metadata": {},
   "outputs": [],
   "source": [
    "df['Target Timestamp'].min()\n",
    "df['Target day'] = (df['Target Timestamp']-df['Target Timestamp'].min()).apply(lambda d: d.days)"
   ]
  },
  {
   "cell_type": "code",
   "execution_count": 71,
   "metadata": {},
   "outputs": [],
   "source": [
    "columns_to_drop.extend(['Unnamed: 0','Target Timestamp','Serial'])\n",
    "df = df.drop(columns_to_drop,axis=1)"
   ]
  },
  {
   "cell_type": "code",
   "execution_count": 72,
   "metadata": {},
   "outputs": [
    {
     "data": {
      "text/plain": [
       "Index(['Model', 'CLEANING-20D', 'CLEANING-19D', 'CLEANING-18D', 'CLEANING-17D',\n",
       "       'CLEANING-16D', 'CLEANING-15D', 'CLEANING-14D', 'CLEANING-13D',\n",
       "       'CLEANING-12D', 'CLEANING-11D', 'CLEANING-10D', 'CLEANING-9D',\n",
       "       'CLEANING-8D', 'CLEANING-7D', 'CLEANING-6D', 'CLEANING-5D', 'FAULT-20D',\n",
       "       'FAULT-19D', 'FAULT-18D', 'FAULT-17D', 'FAULT-16D', 'FAULT-15D',\n",
       "       'FAULT-14D', 'FAULT-13D', 'FAULT-12D', 'FAULT-11D', 'FAULT-10D',\n",
       "       'FAULT-9D', 'FAULT-8D', 'FAULT-7D', 'FAULT-6D', 'FAULT-5D', 'TARGET',\n",
       "       'Target day'],\n",
       "      dtype='object')"
      ]
     },
     "execution_count": 72,
     "metadata": {},
     "output_type": "execute_result"
    }
   ],
   "source": [
    "df.columns"
   ]
  },
  {
   "cell_type": "code",
   "execution_count": 73,
   "metadata": {},
   "outputs": [],
   "source": [
    "cont_names = list(df.columns)\n",
    "cont_names.remove('Model')\n",
    "cont_names.remove('TARGET')\n"
   ]
  },
  {
   "cell_type": "code",
   "execution_count": 74,
   "metadata": {},
   "outputs": [],
   "source": [
    "dep_var = 'TARGET'\n",
    "cat_names = ['Model']\n",
    "procs = [FillMissing, Categorify, Normalize]"
   ]
  },
  {
   "cell_type": "code",
   "execution_count": 75,
   "metadata": {},
   "outputs": [],
   "source": [
    "train_test_ratio = .25"
   ]
  },
  {
   "cell_type": "code",
   "execution_count": 76,
   "metadata": {},
   "outputs": [
    {
     "data": {
      "text/plain": [
       "(46650, 62200)"
      ]
     },
     "execution_count": 76,
     "metadata": {},
     "output_type": "execute_result"
    }
   ],
   "source": [
    "last_sample = len(df)\n",
    "first_test = int(last_sample*(1 - train_test_ratio))\n",
    "first_test,last_sample"
   ]
  },
  {
   "cell_type": "code",
   "execution_count": 77,
   "metadata": {},
   "outputs": [],
   "source": [
    "test = TabularList.from_df(df.iloc[first_test:last_sample].copy(), cat_names=cat_names,cont_names=cont_names)\n",
    "data = (TabularList.from_df(df, cat_names=cat_names, cont_names=cont_names, procs=procs)\n",
    "                           .split_by_idx(list(range(first_test,last_sample)))\n",
    "                           .label_from_df(cols=dep_var)\n",
    "                           .add_test(test)\n",
    "                           .databunch())"
   ]
  },
  {
   "cell_type": "code",
   "execution_count": 78,
   "metadata": {},
   "outputs": [
    {
     "data": {
      "text/html": [
       "<table>  <col width='10%'>  <col width='10%'>  <col width='10%'>  <col width='10%'>  <col width='10%'>  <col width='10%'>  <col width='10%'>  <col width='10%'>  <col width='10%'>  <col width='10%'>  <col width='10%'>  <col width='10%'>  <col width='10%'>  <col width='10%'>  <col width='10%'>  <col width='10%'>  <col width='10%'>  <col width='10%'>  <col width='10%'>  <col width='10%'>  <col width='10%'>  <col width='10%'>  <col width='10%'>  <col width='10%'>  <col width='10%'>  <col width='10%'>  <col width='10%'>  <col width='10%'>  <col width='10%'>  <col width='10%'>  <col width='10%'>  <col width='10%'>  <col width='10%'>  <col width='10%'>  <col width='10%'>  <tr>\n",
       "    <th>Model</th>\n",
       "    <th>CLEANING-20D</th>\n",
       "    <th>CLEANING-19D</th>\n",
       "    <th>CLEANING-18D</th>\n",
       "    <th>CLEANING-17D</th>\n",
       "    <th>CLEANING-16D</th>\n",
       "    <th>CLEANING-15D</th>\n",
       "    <th>CLEANING-14D</th>\n",
       "    <th>CLEANING-13D</th>\n",
       "    <th>CLEANING-12D</th>\n",
       "    <th>CLEANING-11D</th>\n",
       "    <th>CLEANING-10D</th>\n",
       "    <th>CLEANING-9D</th>\n",
       "    <th>CLEANING-8D</th>\n",
       "    <th>CLEANING-7D</th>\n",
       "    <th>CLEANING-6D</th>\n",
       "    <th>CLEANING-5D</th>\n",
       "    <th>FAULT-20D</th>\n",
       "    <th>FAULT-19D</th>\n",
       "    <th>FAULT-18D</th>\n",
       "    <th>FAULT-17D</th>\n",
       "    <th>FAULT-16D</th>\n",
       "    <th>FAULT-15D</th>\n",
       "    <th>FAULT-14D</th>\n",
       "    <th>FAULT-13D</th>\n",
       "    <th>FAULT-12D</th>\n",
       "    <th>FAULT-11D</th>\n",
       "    <th>FAULT-10D</th>\n",
       "    <th>FAULT-9D</th>\n",
       "    <th>FAULT-8D</th>\n",
       "    <th>FAULT-7D</th>\n",
       "    <th>FAULT-6D</th>\n",
       "    <th>FAULT-5D</th>\n",
       "    <th>Target day</th>\n",
       "    <th>target</th>\n",
       "  </tr>\n",
       "  <tr>\n",
       "    <th>model 13</th>\n",
       "    <th>-0.0526</th>\n",
       "    <th>-0.0527</th>\n",
       "    <th>-0.0528</th>\n",
       "    <th>-0.0528</th>\n",
       "    <th>-0.0529</th>\n",
       "    <th>-0.0523</th>\n",
       "    <th>0.1555</th>\n",
       "    <th>-0.0526</th>\n",
       "    <th>-0.0527</th>\n",
       "    <th>-0.0528</th>\n",
       "    <th>-0.0529</th>\n",
       "    <th>-0.0531</th>\n",
       "    <th>-0.0478</th>\n",
       "    <th>-0.0476</th>\n",
       "    <th>-0.0477</th>\n",
       "    <th>-0.0479</th>\n",
       "    <th>-0.0740</th>\n",
       "    <th>-0.0741</th>\n",
       "    <th>-0.0744</th>\n",
       "    <th>-0.0745</th>\n",
       "    <th>-0.0193</th>\n",
       "    <th>-0.0466</th>\n",
       "    <th>0.2250</th>\n",
       "    <th>-0.0468</th>\n",
       "    <th>-0.0741</th>\n",
       "    <th>-0.0743</th>\n",
       "    <th>-0.0744</th>\n",
       "    <th>-0.0746</th>\n",
       "    <th>-0.0747</th>\n",
       "    <th>-0.0748</th>\n",
       "    <th>-0.0749</th>\n",
       "    <th>-0.0479</th>\n",
       "    <th>0.1726</th>\n",
       "    <th>1</th>\n",
       "  </tr>\n",
       "  <tr>\n",
       "    <th>model 13</th>\n",
       "    <th>-0.0526</th>\n",
       "    <th>-0.0527</th>\n",
       "    <th>-0.0528</th>\n",
       "    <th>-0.0528</th>\n",
       "    <th>-0.0529</th>\n",
       "    <th>-0.0523</th>\n",
       "    <th>-0.0525</th>\n",
       "    <th>-0.0526</th>\n",
       "    <th>0.1553</th>\n",
       "    <th>-0.0528</th>\n",
       "    <th>-0.0529</th>\n",
       "    <th>-0.0531</th>\n",
       "    <th>-0.0478</th>\n",
       "    <th>-0.0476</th>\n",
       "    <th>-0.0477</th>\n",
       "    <th>-0.0479</th>\n",
       "    <th>0.3177</th>\n",
       "    <th>0.2896</th>\n",
       "    <th>0.2604</th>\n",
       "    <th>0.1765</th>\n",
       "    <th>0.3340</th>\n",
       "    <th>0.3610</th>\n",
       "    <th>0.3609</th>\n",
       "    <th>0.3336</th>\n",
       "    <th>0.2791</th>\n",
       "    <th>0.2518</th>\n",
       "    <th>0.2245</th>\n",
       "    <th>0.1428</th>\n",
       "    <th>0.3601</th>\n",
       "    <th>0.3599</th>\n",
       "    <th>0.3054</th>\n",
       "    <th>0.0880</th>\n",
       "    <th>1.5909</th>\n",
       "    <th>1</th>\n",
       "  </tr>\n",
       "  <tr>\n",
       "    <th>model 20</th>\n",
       "    <th>-0.0526</th>\n",
       "    <th>-0.0527</th>\n",
       "    <th>-0.0528</th>\n",
       "    <th>-0.0528</th>\n",
       "    <th>-0.0529</th>\n",
       "    <th>-0.0523</th>\n",
       "    <th>-0.0525</th>\n",
       "    <th>-0.0526</th>\n",
       "    <th>-0.0527</th>\n",
       "    <th>-0.0528</th>\n",
       "    <th>-0.0529</th>\n",
       "    <th>-0.0531</th>\n",
       "    <th>-0.0478</th>\n",
       "    <th>-0.0476</th>\n",
       "    <th>-0.0477</th>\n",
       "    <th>-0.0479</th>\n",
       "    <th>0.3457</th>\n",
       "    <th>0.0098</th>\n",
       "    <th>0.2604</th>\n",
       "    <th>0.3160</th>\n",
       "    <th>0.3340</th>\n",
       "    <th>0.2251</th>\n",
       "    <th>0.3881</th>\n",
       "    <th>-0.0468</th>\n",
       "    <th>0.0074</th>\n",
       "    <th>0.3062</th>\n",
       "    <th>1.0940</th>\n",
       "    <th>0.4145</th>\n",
       "    <th>0.6590</th>\n",
       "    <th>0.4414</th>\n",
       "    <th>0.0066</th>\n",
       "    <th>0.1151</th>\n",
       "    <th>1.3236</th>\n",
       "    <th>1</th>\n",
       "  </tr>\n",
       "  <tr>\n",
       "    <th>model 13</th>\n",
       "    <th>0.3818</th>\n",
       "    <th>0.1645</th>\n",
       "    <th>0.1644</th>\n",
       "    <th>0.1644</th>\n",
       "    <th>-0.0529</th>\n",
       "    <th>0.1557</th>\n",
       "    <th>0.1555</th>\n",
       "    <th>-0.0526</th>\n",
       "    <th>0.1553</th>\n",
       "    <th>0.1552</th>\n",
       "    <th>-0.0529</th>\n",
       "    <th>0.1549</th>\n",
       "    <th>-0.0478</th>\n",
       "    <th>0.2939</th>\n",
       "    <th>0.4645</th>\n",
       "    <th>0.1229</th>\n",
       "    <th>-0.0740</th>\n",
       "    <th>-0.0462</th>\n",
       "    <th>-0.0186</th>\n",
       "    <th>-0.0745</th>\n",
       "    <th>-0.0465</th>\n",
       "    <th>-0.0738</th>\n",
       "    <th>-0.0467</th>\n",
       "    <th>-0.0740</th>\n",
       "    <th>-0.0198</th>\n",
       "    <th>-0.0743</th>\n",
       "    <th>-0.0744</th>\n",
       "    <th>-0.0474</th>\n",
       "    <th>-0.0747</th>\n",
       "    <th>-0.0748</th>\n",
       "    <th>-0.0749</th>\n",
       "    <th>-0.0750</th>\n",
       "    <th>1.6652</th>\n",
       "    <th>1</th>\n",
       "  </tr>\n",
       "  <tr>\n",
       "    <th>model 13</th>\n",
       "    <th>-0.0526</th>\n",
       "    <th>-0.0527</th>\n",
       "    <th>-0.0528</th>\n",
       "    <th>-0.0528</th>\n",
       "    <th>-0.0529</th>\n",
       "    <th>-0.0523</th>\n",
       "    <th>-0.0525</th>\n",
       "    <th>-0.0526</th>\n",
       "    <th>-0.0527</th>\n",
       "    <th>-0.0528</th>\n",
       "    <th>-0.0529</th>\n",
       "    <th>-0.0531</th>\n",
       "    <th>-0.0478</th>\n",
       "    <th>-0.0476</th>\n",
       "    <th>-0.0477</th>\n",
       "    <th>-0.0479</th>\n",
       "    <th>-0.0740</th>\n",
       "    <th>-0.0741</th>\n",
       "    <th>-0.0744</th>\n",
       "    <th>-0.0745</th>\n",
       "    <th>-0.0737</th>\n",
       "    <th>-0.0738</th>\n",
       "    <th>-0.0739</th>\n",
       "    <th>-0.0740</th>\n",
       "    <th>-0.0741</th>\n",
       "    <th>-0.0743</th>\n",
       "    <th>-0.0744</th>\n",
       "    <th>-0.0746</th>\n",
       "    <th>-0.0747</th>\n",
       "    <th>-0.0748</th>\n",
       "    <th>-0.0749</th>\n",
       "    <th>-0.0750</th>\n",
       "    <th>-1.2382</th>\n",
       "    <th>0</th>\n",
       "  </tr>\n",
       "  <tr>\n",
       "    <th>model 20</th>\n",
       "    <th>-0.0526</th>\n",
       "    <th>-0.0527</th>\n",
       "    <th>-0.0528</th>\n",
       "    <th>-0.0528</th>\n",
       "    <th>-0.0529</th>\n",
       "    <th>-0.0523</th>\n",
       "    <th>-0.0525</th>\n",
       "    <th>-0.0526</th>\n",
       "    <th>-0.0527</th>\n",
       "    <th>-0.0528</th>\n",
       "    <th>-0.0529</th>\n",
       "    <th>-0.0531</th>\n",
       "    <th>-0.0478</th>\n",
       "    <th>-0.0476</th>\n",
       "    <th>-0.0477</th>\n",
       "    <th>-0.0479</th>\n",
       "    <th>-0.0740</th>\n",
       "    <th>-0.0741</th>\n",
       "    <th>-0.0744</th>\n",
       "    <th>-0.0745</th>\n",
       "    <th>-0.0737</th>\n",
       "    <th>-0.0738</th>\n",
       "    <th>-0.0739</th>\n",
       "    <th>-0.0740</th>\n",
       "    <th>-0.0741</th>\n",
       "    <th>-0.0743</th>\n",
       "    <th>-0.0744</th>\n",
       "    <th>-0.0746</th>\n",
       "    <th>-0.0747</th>\n",
       "    <th>-0.0748</th>\n",
       "    <th>-0.0749</th>\n",
       "    <th>-0.0750</th>\n",
       "    <th>-1.2902</th>\n",
       "    <th>0</th>\n",
       "  </tr>\n",
       "  <tr>\n",
       "    <th>model 16</th>\n",
       "    <th>-0.0526</th>\n",
       "    <th>-0.0527</th>\n",
       "    <th>-0.0528</th>\n",
       "    <th>-0.0528</th>\n",
       "    <th>-0.0529</th>\n",
       "    <th>-0.0523</th>\n",
       "    <th>-0.0525</th>\n",
       "    <th>-0.0526</th>\n",
       "    <th>-0.0527</th>\n",
       "    <th>-0.0528</th>\n",
       "    <th>-0.0529</th>\n",
       "    <th>-0.0531</th>\n",
       "    <th>-0.0478</th>\n",
       "    <th>-0.0476</th>\n",
       "    <th>-0.0477</th>\n",
       "    <th>-0.0479</th>\n",
       "    <th>-0.0740</th>\n",
       "    <th>-0.0741</th>\n",
       "    <th>-0.0744</th>\n",
       "    <th>-0.0745</th>\n",
       "    <th>-0.0737</th>\n",
       "    <th>-0.0738</th>\n",
       "    <th>-0.0739</th>\n",
       "    <th>-0.0740</th>\n",
       "    <th>-0.0741</th>\n",
       "    <th>-0.0743</th>\n",
       "    <th>-0.0744</th>\n",
       "    <th>-0.0746</th>\n",
       "    <th>-0.0747</th>\n",
       "    <th>-0.0748</th>\n",
       "    <th>-0.0749</th>\n",
       "    <th>-0.0750</th>\n",
       "    <th>-1.2605</th>\n",
       "    <th>0</th>\n",
       "  </tr>\n",
       "  <tr>\n",
       "    <th>model 20</th>\n",
       "    <th>-0.0526</th>\n",
       "    <th>-0.0527</th>\n",
       "    <th>-0.0528</th>\n",
       "    <th>-0.0528</th>\n",
       "    <th>-0.0529</th>\n",
       "    <th>-0.0523</th>\n",
       "    <th>-0.0525</th>\n",
       "    <th>-0.0526</th>\n",
       "    <th>-0.0527</th>\n",
       "    <th>-0.0528</th>\n",
       "    <th>-0.0529</th>\n",
       "    <th>-0.0531</th>\n",
       "    <th>-0.0478</th>\n",
       "    <th>-0.0476</th>\n",
       "    <th>-0.0477</th>\n",
       "    <th>-0.0479</th>\n",
       "    <th>-0.0740</th>\n",
       "    <th>-0.0741</th>\n",
       "    <th>-0.0744</th>\n",
       "    <th>-0.0745</th>\n",
       "    <th>-0.0737</th>\n",
       "    <th>-0.0738</th>\n",
       "    <th>-0.0739</th>\n",
       "    <th>-0.0740</th>\n",
       "    <th>-0.0741</th>\n",
       "    <th>-0.0743</th>\n",
       "    <th>-0.0744</th>\n",
       "    <th>-0.0746</th>\n",
       "    <th>-0.0747</th>\n",
       "    <th>-0.0748</th>\n",
       "    <th>-0.0749</th>\n",
       "    <th>-0.0750</th>\n",
       "    <th>0.0019</th>\n",
       "    <th>0</th>\n",
       "  </tr>\n",
       "  <tr>\n",
       "    <th>model 10</th>\n",
       "    <th>-0.0526</th>\n",
       "    <th>-0.0527</th>\n",
       "    <th>-0.0528</th>\n",
       "    <th>-0.0528</th>\n",
       "    <th>-0.0529</th>\n",
       "    <th>-0.0523</th>\n",
       "    <th>-0.0525</th>\n",
       "    <th>-0.0526</th>\n",
       "    <th>-0.0527</th>\n",
       "    <th>-0.0528</th>\n",
       "    <th>-0.0529</th>\n",
       "    <th>-0.0531</th>\n",
       "    <th>-0.0478</th>\n",
       "    <th>-0.0476</th>\n",
       "    <th>-0.0477</th>\n",
       "    <th>-0.0479</th>\n",
       "    <th>-0.0740</th>\n",
       "    <th>-0.0741</th>\n",
       "    <th>-0.0744</th>\n",
       "    <th>-0.0745</th>\n",
       "    <th>-0.0737</th>\n",
       "    <th>-0.0738</th>\n",
       "    <th>-0.0739</th>\n",
       "    <th>-0.0740</th>\n",
       "    <th>-0.0741</th>\n",
       "    <th>-0.0743</th>\n",
       "    <th>-0.0744</th>\n",
       "    <th>-0.0746</th>\n",
       "    <th>-0.0747</th>\n",
       "    <th>-0.0748</th>\n",
       "    <th>-0.0749</th>\n",
       "    <th>-0.0750</th>\n",
       "    <th>-1.4164</th>\n",
       "    <th>0</th>\n",
       "  </tr>\n",
       "  <tr>\n",
       "    <th>model 13</th>\n",
       "    <th>-0.0526</th>\n",
       "    <th>-0.0527</th>\n",
       "    <th>-0.0528</th>\n",
       "    <th>-0.0528</th>\n",
       "    <th>-0.0529</th>\n",
       "    <th>-0.0523</th>\n",
       "    <th>-0.0525</th>\n",
       "    <th>-0.0526</th>\n",
       "    <th>-0.0527</th>\n",
       "    <th>-0.0528</th>\n",
       "    <th>-0.0529</th>\n",
       "    <th>-0.0531</th>\n",
       "    <th>-0.0478</th>\n",
       "    <th>-0.0476</th>\n",
       "    <th>-0.0477</th>\n",
       "    <th>-0.0479</th>\n",
       "    <th>-0.0740</th>\n",
       "    <th>-0.0741</th>\n",
       "    <th>-0.0744</th>\n",
       "    <th>-0.0745</th>\n",
       "    <th>-0.0737</th>\n",
       "    <th>-0.0738</th>\n",
       "    <th>-0.0739</th>\n",
       "    <th>-0.0740</th>\n",
       "    <th>-0.0741</th>\n",
       "    <th>-0.0743</th>\n",
       "    <th>-0.0744</th>\n",
       "    <th>-0.0746</th>\n",
       "    <th>-0.0747</th>\n",
       "    <th>-0.0748</th>\n",
       "    <th>-0.0749</th>\n",
       "    <th>-0.0750</th>\n",
       "    <th>0.1875</th>\n",
       "    <th>0</th>\n",
       "  </tr>\n",
       "</table>\n"
      ],
      "text/plain": [
       "<IPython.core.display.HTML object>"
      ]
     },
     "metadata": {},
     "output_type": "display_data"
    }
   ],
   "source": [
    "data.show_batch(rows=10)"
   ]
  },
  {
   "cell_type": "code",
   "execution_count": 128,
   "metadata": {},
   "outputs": [
    {
     "data": {
      "text/plain": [
       "<torch._C.Generator at 0x7f9353f37df0>"
      ]
     },
     "execution_count": 128,
     "metadata": {},
     "output_type": "execute_result"
    }
   ],
   "source": [
    "torch.manual_seed(7)"
   ]
  },
  {
   "cell_type": "code",
   "execution_count": 129,
   "metadata": {},
   "outputs": [],
   "source": [
    "learn = tabular_learner(data, layers=[500,200], metrics=accuracy,wd=0.05)"
   ]
  },
  {
   "cell_type": "code",
   "execution_count": 130,
   "metadata": {},
   "outputs": [
    {
     "data": {
      "text/html": [
       "Total time: 00:05 <p><table style='width:300px; margin-bottom:10px'>\n",
       "  <tr>\n",
       "    <th>epoch</th>\n",
       "    <th>train_loss</th>\n",
       "    <th>valid_loss</th>\n",
       "    <th>accuracy</th>\n",
       "  </tr>\n",
       "  <tr>\n",
       "    <th>1</th>\n",
       "    <th>0.283017</th>\n",
       "    <th>0.798020</th>\n",
       "    <th>0.613891</th>\n",
       "  </tr>\n",
       "</table>\n"
      ],
      "text/plain": [
       "<IPython.core.display.HTML object>"
      ]
     },
     "metadata": {},
     "output_type": "display_data"
    }
   ],
   "source": [
    "learn.fit(1, 1e-2)"
   ]
  },
  {
   "cell_type": "code",
   "execution_count": 131,
   "metadata": {},
   "outputs": [],
   "source": [
    "learn.save(dataset_root + '_acc_0613.learner')"
   ]
  },
  {
   "cell_type": "code",
   "execution_count": 132,
   "metadata": {},
   "outputs": [
    {
     "name": "stdout",
     "output_type": "stream",
     "text": [
      "LR Finder is complete, type {learner_name}.recorder.plot() to see the graph.\n"
     ]
    }
   ],
   "source": [
    "learn.lr_find()"
   ]
  },
  {
   "cell_type": "code",
   "execution_count": 133,
   "metadata": {},
   "outputs": [
    {
     "data": {
      "image/png": "[encoded data removed]",
      "text/plain": [
       "<Figure size 432x288 with 1 Axes>"
      ]
     },
     "metadata": {
      "needs_background": "light"
     },
     "output_type": "display_data"
    }
   ],
   "source": [
    "learn.recorder.plot()\n"
   ]
  },
  {
   "cell_type": "code",
   "execution_count": 134,
   "metadata": {},
   "outputs": [
    {
     "data": {
      "text/html": [
       "Total time: 00:28 <p><table style='width:300px; margin-bottom:10px'>\n",
       "  <tr>\n",
       "    <th>epoch</th>\n",
       "    <th>train_loss</th>\n",
       "    <th>valid_loss</th>\n",
       "    <th>accuracy</th>\n",
       "  </tr>\n",
       "  <tr>\n",
       "    <th>1</th>\n",
       "    <th>0.287843</th>\n",
       "    <th>0.938600</th>\n",
       "    <th>0.543408</th>\n",
       "  </tr>\n",
       "  <tr>\n",
       "    <th>2</th>\n",
       "    <th>0.279527</th>\n",
       "    <th>0.931317</th>\n",
       "    <th>0.570675</th>\n",
       "  </tr>\n",
       "  <tr>\n",
       "    <th>3</th>\n",
       "    <th>0.283542</th>\n",
       "    <th>5.420391</th>\n",
       "    <th>0.565852</th>\n",
       "  </tr>\n",
       "  <tr>\n",
       "    <th>4</th>\n",
       "    <th>0.307388</th>\n",
       "    <th>47.228859</th>\n",
       "    <th>0.546560</th>\n",
       "  </tr>\n",
       "  <tr>\n",
       "    <th>5</th>\n",
       "    <th>0.289531</th>\n",
       "    <th>1.738576</th>\n",
       "    <th>0.565145</th>\n",
       "  </tr>\n",
       "</table>\n"
      ],
      "text/plain": [
       "<IPython.core.display.HTML object>"
      ]
     },
     "metadata": {},
     "output_type": "display_data"
    }
   ],
   "source": [
    "learn.fit(5, 3e-2)"
   ]
  },
  {
   "cell_type": "code",
   "execution_count": null,
   "metadata": {},
   "outputs": [],
   "source": []
  },
  {
   "cell_type": "code",
   "execution_count": 135,
   "metadata": {},
   "outputs": [
    {
     "data": {
      "text/html": [
       "Total time: 00:56 <p><table style='width:300px; margin-bottom:10px'>\n",
       "  <tr>\n",
       "    <th>epoch</th>\n",
       "    <th>train_loss</th>\n",
       "    <th>valid_loss</th>\n",
       "    <th>accuracy</th>\n",
       "  </tr>\n",
       "  <tr>\n",
       "    <th>1</th>\n",
       "    <th>0.277979</th>\n",
       "    <th>14.109609</th>\n",
       "    <th>0.571897</th>\n",
       "  </tr>\n",
       "  <tr>\n",
       "    <th>2</th>\n",
       "    <th>0.266425</th>\n",
       "    <th>14.948373</th>\n",
       "    <th>0.565659</th>\n",
       "  </tr>\n",
       "  <tr>\n",
       "    <th>3</th>\n",
       "    <th>0.282477</th>\n",
       "    <th>1.817600</th>\n",
       "    <th>0.567717</th>\n",
       "  </tr>\n",
       "  <tr>\n",
       "    <th>4</th>\n",
       "    <th>0.290311</th>\n",
       "    <th>4.122257</th>\n",
       "    <th>0.565016</th>\n",
       "  </tr>\n",
       "  <tr>\n",
       "    <th>5</th>\n",
       "    <th>0.281352</th>\n",
       "    <th>3.320585</th>\n",
       "    <th>0.569003</th>\n",
       "  </tr>\n",
       "  <tr>\n",
       "    <th>6</th>\n",
       "    <th>0.275760</th>\n",
       "    <th>1.869172</th>\n",
       "    <th>0.562444</th>\n",
       "  </tr>\n",
       "  <tr>\n",
       "    <th>7</th>\n",
       "    <th>0.276828</th>\n",
       "    <th>2.945632</th>\n",
       "    <th>0.566817</th>\n",
       "  </tr>\n",
       "  <tr>\n",
       "    <th>8</th>\n",
       "    <th>0.295078</th>\n",
       "    <th>6.612245</th>\n",
       "    <th>0.566881</th>\n",
       "  </tr>\n",
       "  <tr>\n",
       "    <th>9</th>\n",
       "    <th>0.283026</th>\n",
       "    <th>8.284439</th>\n",
       "    <th>0.566302</th>\n",
       "  </tr>\n",
       "  <tr>\n",
       "    <th>10</th>\n",
       "    <th>0.268709</th>\n",
       "    <th>4.007000</th>\n",
       "    <th>0.565788</th>\n",
       "  </tr>\n",
       "</table>\n"
      ],
      "text/plain": [
       "<IPython.core.display.HTML object>"
      ]
     },
     "metadata": {},
     "output_type": "display_data"
    }
   ],
   "source": [
    "learn.fit(10, 2e-6)"
   ]
  },
  {
   "cell_type": "code",
   "execution_count": null,
   "metadata": {},
   "outputs": [],
   "source": []
  },
  {
   "cell_type": "code",
   "execution_count": null,
   "metadata": {},
   "outputs": [],
   "source": []
  },
  {
   "cell_type": "code",
   "execution_count": null,
   "metadata": {},
   "outputs": [],
   "source": []
  },
  {
   "cell_type": "code",
   "execution_count": null,
   "metadata": {},
   "outputs": [],
   "source": []
  },
  {
   "cell_type": "markdown",
   "metadata": {},
   "source": [
    "### Utility - split the datset"
   ]
  },
  {
   "cell_type": "code",
   "execution_count": 26,
   "metadata": {},
   "outputs": [
    {
     "name": "stdout",
     "output_type": "stream",
     "text": [
      "0 15575\n",
      "Faults_Cleaning_Counters_100_D_20_1_0000.csv\n",
      "15575 31150\n",
      "Faults_Cleaning_Counters_100_D_20_1_0001.csv\n",
      "31150 46725\n",
      "Faults_Cleaning_Counters_100_D_20_1_0002.csv\n",
      "46725 62300\n",
      "Faults_Cleaning_Counters_100_D_20_1_0003.csv\n"
     ]
    }
   ],
   "source": [
    "#\n",
    "# Split the dataset in smaller chunks to allow upload to gisthub\n",
    "#\n",
    "df = pd.read_csv(\"Faults_Cleaning_Counters_100_D_20_1.csv\",parse_dates = ['Target Timestamp'])\n",
    "n = 4\n",
    "split = len(df)/n\n",
    "name = \"Faults_Cleaning_Counters_100_D_20_1.csv\"\n",
    "\n",
    "for i,start_idx in enumerate(range(0,l,int(len(df)/n))):\n",
    "    stop_idx = min(start_idx+int(len(df)/n),len(df))\n",
    "    print(start_idx,stop_idx)\n",
    "    file = \"%s_%04d.csv\"%(name.split('.')[0],i)\n",
    "    print(file)\n",
    "    df.iloc[start_idx:stop_idx].to_csv(file)"
   ]
  },
  {
   "cell_type": "code",
   "execution_count": null,
   "metadata": {},
   "outputs": [],
   "source": []
  }
 ],
 "metadata": {
  "kernelspec": {
   "display_name": "Python 3",
   "language": "python",
   "name": "python3"
  },
  "language_info": {
   "codemirror_mode": {
    "name": "ipython",
    "version": 3
   },
   "file_extension": ".py",
   "mimetype": "text/x-python",
   "name": "python",
   "nbconvert_exporter": "python",
   "pygments_lexer": "ipython3",
   "version": "3.6.7"
  }
 },
 "nbformat": 4,
 "nbformat_minor": 2
}
